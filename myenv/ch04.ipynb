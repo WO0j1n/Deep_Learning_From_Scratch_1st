{
 "cells": [
  {
   "cell_type": "code",
   "metadata": {
    "ExecuteTime": {
     "end_time": "2024-07-16T03:10:37.068166Z",
     "start_time": "2024-07-16T03:10:37.065982Z"
    }
   },
   "source": [
    "# 손실함수-> 오차제곱함 구현\n",
    "import numpy as np\n",
    "\n",
    "def sum_squares_error(y, t):\n",
    "    return 0.5 * np.sum((y-t) ** 2)"
   ],
   "outputs": [],
   "execution_count": 9
  },
  {
   "cell_type": "code",
   "metadata": {
    "ExecuteTime": {
     "end_time": "2024-07-16T03:10:37.454701Z",
     "start_time": "2024-07-16T03:10:37.452145Z"
    }
   },
   "source": [
    "# 신경망의 출력결과(y -> 소프트맥스 함수로 구한 결과로 생각하여 이로 인해 확률을 갖는다고 생각하기), 정답 레이블(t)이 같은 경우 오차가 적기에 값이 작음-> 정답에 가까움\n",
    "t = [0, 0, 1, 0, 0, 0, 0, 0, 0, 0]\n",
    "y = [0.1, 0.05, 0.6, 0.0, 0.05, 0.1, 0.0, 0.1, 0.0, 0.0]\n",
    "\n",
    "sum_squares_error(np.array(y), np.array(t))"
   ],
   "outputs": [
    {
     "data": {
      "text/plain": [
       "0.09750000000000003"
      ]
     },
     "execution_count": 10,
     "metadata": {},
     "output_type": "execute_result"
    }
   ],
   "execution_count": 10
  },
  {
   "cell_type": "code",
   "metadata": {
    "ExecuteTime": {
     "end_time": "2024-07-16T03:10:37.763564Z",
     "start_time": "2024-07-16T03:10:37.761014Z"
    }
   },
   "source": [
    "# 신경망의 출력결과(y -> 소프트맥스 함수로 구한 결과로 생각하기), 정답 레이블(t)가 서로 다른 경우 오차가 크기에 값이 크게 나온다.\n",
    "y = [0.1, 0.05, 0.1, 0.0, 0.05, 0.1, 0.0, 0.6, 0.0, 0.0]\n",
    "sum_squares_error(np.array(y), np.array(t))"
   ],
   "outputs": [
    {
     "data": {
      "text/plain": [
       "0.5975"
      ]
     },
     "execution_count": 11,
     "metadata": {},
     "output_type": "execute_result"
    }
   ],
   "execution_count": 11
  },
  {
   "cell_type": "code",
   "metadata": {
    "ExecuteTime": {
     "end_time": "2024-07-16T03:10:38.219236Z",
     "start_time": "2024-07-16T03:10:38.217621Z"
    }
   },
   "source": [
    "# 손실함수 -> 교차 엔트로피 오차 => 정답레이블이 1인 경우에(t == 1) 실질적인 연산이 이루어짐.\n",
    "def cross_entropy_error(y, t):\n",
    "    delta = 1e-7\n",
    "    return -np.sum(t * np.log(y + delta))"
   ],
   "outputs": [],
   "execution_count": 12
  },
  {
   "cell_type": "code",
   "metadata": {
    "ExecuteTime": {
     "end_time": "2024-07-16T03:10:38.628528Z",
     "start_time": "2024-07-16T03:10:38.626270Z"
    }
   },
   "source": [
    "# 정답 레이블이 1인 경우(t == 1), 신경망 출력(y)이 크면(확률이 크면) 오차가 적음\n",
    "t = [0, 0, 1, 0, 0, 0, 0, 0, 0, 0]\n",
    "y = [0.1, 0.05, 0.6, 0.0, 0.05, 0.1, 0.0, 0.1, 0.0, 0.0]\n",
    "\n",
    "cross_entropy_error(np.array(y), np.array(t))"
   ],
   "outputs": [
    {
     "data": {
      "text/plain": [
       "0.510825457099338"
      ]
     },
     "execution_count": 13,
     "metadata": {},
     "output_type": "execute_result"
    }
   ],
   "execution_count": 13
  },
  {
   "cell_type": "code",
   "metadata": {
    "ExecuteTime": {
     "end_time": "2024-07-16T03:10:39.016903Z",
     "start_time": "2024-07-16T03:10:39.013543Z"
    }
   },
   "source": [
    "# 정답 레이블이 1인 경우(t == 1), 신경망 출력(y)이 작으면(확률이 작으면) 오차가 큼\n",
    "y = [0.1, 0.05, 0.1, 0.0, 0.05, 0.1, 0.0, 0.6, 0.0, 0.0]\n",
    "cross_entropy_error(np.array(y), np.array(t))"
   ],
   "outputs": [
    {
     "data": {
      "text/plain": [
       "2.302584092994546"
      ]
     },
     "execution_count": 14,
     "metadata": {},
     "output_type": "execute_result"
    }
   ],
   "execution_count": 14
  },
  {
   "cell_type": "code",
   "metadata": {
    "ExecuteTime": {
     "end_time": "2024-07-16T03:10:39.596358Z",
     "start_time": "2024-07-16T03:10:39.587929Z"
    }
   },
   "source": [
    "import tensorflow as tf\n",
    "from tensorflow.keras.datasets import mnist\n",
    "\n",
    "# MNIST 데이터셋 불러오기\n",
    "(x_train, t_train), (x_test, t_test) = mnist.load_data()\n",
    "\n",
    "# 데이터 정규화\n",
    "x_train = x_train.astype('float32') / 255.0\n",
    "x_test = x_test.astype('float32') / 255.0\n",
    "\n",
    "# 1차원 배열로 변환 (28x28 -> 784)\n",
    "x_train = x_train.reshape((x_train.shape[0], 784))\n",
    "x_test = x_test.reshape((x_test.shape[0], 784))\n",
    "\n",
    "# 원-핫 인코딩\n",
    "t_train = tf.keras.utils.to_categorical(t_train, 10)\n",
    "t_test = tf.keras.utils.to_categorical(t_test, 10)\n",
    "\n",
    "print(x_train.shape)  # (60000, 784)\n",
    "print(t_train.shape)  # (60000, 10)\n"
   ],
   "outputs": [
    {
     "ename": "ModuleNotFoundError",
     "evalue": "No module named 'tensorflow'",
     "output_type": "error",
     "traceback": [
      "\u001B[0;31m---------------------------------------------------------------------------\u001B[0m",
      "\u001B[0;31mModuleNotFoundError\u001B[0m                       Traceback (most recent call last)",
      "Cell \u001B[0;32mIn[15], line 1\u001B[0m\n\u001B[0;32m----> 1\u001B[0m \u001B[38;5;28;01mimport\u001B[39;00m \u001B[38;5;21;01mtensorflow\u001B[39;00m \u001B[38;5;28;01mas\u001B[39;00m \u001B[38;5;21;01mtf\u001B[39;00m\n\u001B[1;32m      2\u001B[0m \u001B[38;5;28;01mfrom\u001B[39;00m \u001B[38;5;21;01mtensorflow\u001B[39;00m\u001B[38;5;21;01m.\u001B[39;00m\u001B[38;5;21;01mkeras\u001B[39;00m\u001B[38;5;21;01m.\u001B[39;00m\u001B[38;5;21;01mdatasets\u001B[39;00m \u001B[38;5;28;01mimport\u001B[39;00m mnist\n\u001B[1;32m      4\u001B[0m \u001B[38;5;66;03m# MNIST 데이터셋 불러오기\u001B[39;00m\n",
      "\u001B[0;31mModuleNotFoundError\u001B[0m: No module named 'tensorflow'"
     ]
    }
   ],
   "execution_count": 15
  },
  {
   "cell_type": "code",
   "execution_count": 142,
   "metadata": {
    "ExecuteTime": {
     "end_time": "2024-07-05T06:07:36.648770Z",
     "start_time": "2024-07-05T06:07:36.646915Z"
    }
   },
   "outputs": [],
   "source": [
    "# 미니배치 형성 -> 수많은 데이터 수에 각각 해당하는 손실함수를 계산하는 것이 연산 손실이 발생하기에 일부를 무작위로 추려 학습시켜 근사치로 활용\n",
    "train_size = x_train.shape[0]\n",
    "batch_size = 10\n",
    "batch_mask = np.random.choice(train_size, batch_size)\n",
    "x_batch = x_train[batch_mask]\n",
    "t_batch = t_train[batch_mask]\n"
   ]
  },
  {
   "cell_type": "code",
   "execution_count": 143,
   "metadata": {
    "ExecuteTime": {
     "end_time": "2024-07-05T06:07:36.651316Z",
     "start_time": "2024-07-05T06:07:36.649271Z"
    }
   },
   "outputs": [
    {
     "data": {
      "text/plain": [
       "array([20667, 17870,  4819, 36620, 59810, 48759, 44419, 36872,  9435,\n",
       "       17966])"
      ]
     },
     "execution_count": 143,
     "metadata": {},
     "output_type": "execute_result"
    }
   ],
   "source": [
    "np.random.choice(60000, 10) # 0~59999 중 무작위로 10개 고름 // 위에서 사용한 np.random.choice에 대한 설명"
   ]
  },
  {
   "cell_type": "code",
   "execution_count": 144,
   "metadata": {
    "ExecuteTime": {
     "end_time": "2024-07-05T06:07:36.653938Z",
     "start_time": "2024-07-05T06:07:36.652245Z"
    }
   },
   "outputs": [],
   "source": [
    "# 배치용 교차 엔트로피 오차 구현하기 -> 데이터가 N개가 들어오는 경우 N으로 나눠(정규화) Inpout으로 데이터가 몇개가 들어오든 일정한 수치화를 통해 비교가 가능하게 함.\n",
    "# 데이터가 한개가 들어오든 배치로 묶여 들어오든 상관 없음.\n",
    "def cross_entropy_error(y, t):\n",
    "    if y.ndim == 1:\n",
    "        t = t.reshape(1, t.size)\n",
    "        y = y.reshape(1, y.size)\n",
    "\n",
    "    batch_size = y.shape[0]\n",
    "    return -np.sum(t*np.log(y + 1e-7)) / batch_size\n",
    "# y(신경망 출력)가 1차원이라면, 즉 데이터 하나당 교차 엔트로피 오차를 구하는 경우를 reshape 함수로 데이터의 형상을 바꿈\n",
    "# 그 후 정규화를 통해서 이미지 1장 당 평균의 교차 엔트로피 오차를 계산함."
   ]
  },
  {
   "cell_type": "code",
   "execution_count": 145,
   "metadata": {
    "ExecuteTime": {
     "end_time": "2024-07-05T06:07:36.655988Z",
     "start_time": "2024-07-05T06:07:36.654469Z"
    }
   },
   "outputs": [],
   "source": [
    "# 위의 함수 구현과 다른 점\n",
    "# 원-핫 인코딩을 통해서 정답이 아닌 레이블 0은 교차 엔트로피 오차도 0이기에 이를 무시하여 연산 손실을 방지하였음\n",
    "\n",
    "def cross_entropy_error(y, t):\n",
    "    if y.ndim == 1:\n",
    "        t = t.reshape(1, t.size)\n",
    "        y = y.reshape(1, y.size)\n",
    "\n",
    "    batch_size = y.shape[0]\n",
    "    return -np.sum(np.log(y[np.arange(batch_size), t] + 1e-7)) / batch_size\n",
    "\n",
    "# np.arange(batch_size) : 0~ batch_size-1까지의 배열 생성\n",
    "# t = 정답 레이블\n",
    "# y[np.arange(batch_size), t] = 각 데이터의 정답 레이블에 해당하는 신경망의 출력을 추출함."
   ]
  },
  {
   "cell_type": "code",
   "execution_count": 146,
   "metadata": {
    "ExecuteTime": {
     "end_time": "2024-07-05T06:07:36.657797Z",
     "start_time": "2024-07-05T06:07:36.656473Z"
    }
   },
   "outputs": [],
   "source": [
    "# 미분-> 해당 순간의 변화량을 구함\n",
    "# 해당 구현은 상당히 좋지 않은 구현임-> 해당 순간에서의 변화량이 아님\n",
    "# 더불어 반올림 오차 문제 발생 -> 부동소수점 성질에 의해서 소수점 8자리 이하의 수는 생략되기에 오차가 발생함.\n",
    "# 해당 미분을 수치 미분이라고 함\n",
    "def numerical_diff(f, x):\n",
    "    h = 1e-50\n",
    "    return (f(x+h) - f(x)) / h"
   ]
  },
  {
   "cell_type": "code",
   "execution_count": 147,
   "metadata": {
    "ExecuteTime": {
     "end_time": "2024-07-05T06:07:36.659646Z",
     "start_time": "2024-07-05T06:07:36.658277Z"
    }
   },
   "outputs": [],
   "source": [
    "# 수치 미분에서의 오차를 줄이기 위해서 중심 차분/ 중앙 차분을 활요하자 -> 이전 구현은 전방 차분임\n",
    "# (x + h), (x-h) 이 두가지의 차분을 구하고자 함\n",
    "# 수치 미분은 우리가 수학시간에 배운 것을 완전히 구현하지 못하니 근사치로 계산하고자 함.\n",
    "\n",
    "def numerical_diff(f, x):\n",
    "    h = 1e-4\n",
    "    return (f(x+h) - f(x-h)) / (2*h)"
   ]
  },
  {
   "cell_type": "code",
   "execution_count": 148,
   "metadata": {
    "ExecuteTime": {
     "end_time": "2024-07-05T06:07:36.661297Z",
     "start_time": "2024-07-05T06:07:36.660080Z"
    }
   },
   "outputs": [],
   "source": [
    "def function_1(x):\n",
    "    return 0.01*x**2 + 0.1*x"
   ]
  },
  {
   "cell_type": "code",
   "execution_count": 149,
   "metadata": {
    "ExecuteTime": {
     "end_time": "2024-07-05T06:07:36.860936Z",
     "start_time": "2024-07-05T06:07:36.661694Z"
    }
   },
   "outputs": [
    {
     "data": {
      "image/png": "[encoded data removed]",
      "text/plain": [
       "<Figure size 640x480 with 1 Axes>"
      ]
     },
     "metadata": {},
     "output_type": "display_data"
    }
   ],
   "source": [
    "import numpy as np \n",
    "import matplotlib.pyplot as plt\n",
    "\n",
    "x = np.arange(0.0, 20., 0.1)\n",
    "y = function_1(x)\n",
    "\n",
    "plt.xlabel('x')\n",
    "plt.ylabel(\"f(x)\")\n",
    "plt.plot(x, y)\n",
    "plt.show()"
   ]
  },
  {
   "cell_type": "code",
   "execution_count": 150,
   "metadata": {
    "ExecuteTime": {
     "end_time": "2024-07-05T06:07:36.864680Z",
     "start_time": "2024-07-05T06:07:36.862727Z"
    }
   },
   "outputs": [
    {
     "data": {
      "text/plain": [
       "0.1999999999990898"
      ]
     },
     "execution_count": 150,
     "metadata": {},
     "output_type": "execute_result"
    }
   ],
   "source": [
    "numerical_diff(function_1, 5)\n"
   ]
  },
  {
   "cell_type": "code",
   "execution_count": 151,
   "metadata": {
    "ExecuteTime": {
     "end_time": "2024-07-05T06:07:36.866999Z",
     "start_time": "2024-07-05T06:07:36.865212Z"
    }
   },
   "outputs": [
    {
     "data": {
      "text/plain": [
       "0.2999999999986347"
      ]
     },
     "execution_count": 151,
     "metadata": {},
     "output_type": "execute_result"
    }
   ],
   "source": [
    "numerical_diff(function_1, 10)"
   ]
  },
  {
   "cell_type": "code",
   "execution_count": 152,
   "metadata": {
    "ExecuteTime": {
     "end_time": "2024-07-05T06:07:36.907645Z",
     "start_time": "2024-07-05T06:07:36.867408Z"
    }
   },
   "outputs": [
    {
     "name": "stdout",
     "output_type": "stream",
     "text": [
      "0.1999999999990898\n"
     ]
    },
    {
     "data": {
      "image/png": "[encoded data removed]",
      "text/plain": [
       "<Figure size 640x480 with 1 Axes>"
      ]
     },
     "metadata": {},
     "output_type": "display_data"
    }
   ],
   "source": [
    "# 접선의 함수를 구하는 함수 -> 저자 깃허브에서 가져옴, 책에 구현부분 없음.\n",
    "import numpy as np\n",
    "import matplotlib.pylab as plt\n",
    "\n",
    "\n",
    "def numerical_diff(f, x):\n",
    "        h = 1e-4 # 0.0001\n",
    "        return (f(x+h) - f(x-h)) / (2*h)\n",
    "\n",
    "\n",
    "def function_1(x):\n",
    "        return 0.01*x**2 + 0.1*x \n",
    "\n",
    "\n",
    "def tangent_line(f, x):\n",
    "        d = numerical_diff(f, x)\n",
    "        print(d)\n",
    "        y = f(x) - d*x\n",
    "        return lambda t: d*t + y\n",
    "        \n",
    "x = np.arange(0.0, 20.0, 0.1)\n",
    "y = function_1(x)\n",
    "plt.xlabel(\"x\")\n",
    "plt.ylabel(\"f(x)\")\n",
    "\n",
    "tf = tangent_line(function_1, 5)\n",
    "y2 = tf(x)\n",
    "\n",
    "plt.plot(x, y)\n",
    "plt.plot(x, y2)\n",
    "plt.show()"
   ]
  },
  {
   "cell_type": "code",
   "execution_count": 153,
   "metadata": {
    "ExecuteTime": {
     "end_time": "2024-07-05T06:07:37.001117Z",
     "start_time": "2024-07-05T06:07:36.908153Z"
    }
   },
   "outputs": [
    {
     "name": "stdout",
     "output_type": "stream",
     "text": [
      "0.2999999999986347\n"
     ]
    },
    {
     "data": {
      "image/png": "[encoded data removed]",
      "text/plain": [
       "<Figure size 640x480 with 1 Axes>"
      ]
     },
     "metadata": {},
     "output_type": "display_data"
    }
   ],
   "source": [
    "tf2 = tangent_line(function_1, 10)\n",
    "y3 = tf2(x)\n",
    "\n",
    "plt.plot(x, y)\n",
    "plt.plot(x, y3)\n",
    "plt.show()"
   ]
  },
  {
   "cell_type": "code",
   "execution_count": 154,
   "metadata": {
    "ExecuteTime": {
     "end_time": "2024-07-05T06:07:37.003267Z",
     "start_time": "2024-07-05T06:07:37.001678Z"
    }
   },
   "outputs": [],
   "source": [
    "# 편미분 구현하기\n",
    "def function_2(x):\n",
    "    return np.sum(x ** 2)\n",
    "    # return x[0] ** 2 + x[1]**2\n"
   ]
  },
  {
   "cell_type": "code",
   "execution_count": 155,
   "metadata": {
    "ExecuteTime": {
     "end_time": "2024-07-05T06:07:37.005650Z",
     "start_time": "2024-07-05T06:07:37.003722Z"
    }
   },
   "outputs": [
    {
     "data": {
      "text/plain": [
       "6.00000000000378"
      ]
     },
     "execution_count": 155,
     "metadata": {},
     "output_type": "execute_result"
    }
   ],
   "source": [
    "def function_tmp1(x0):\n",
    "    return x0*x0 + 4.0**2.0\n",
    "\n",
    "numerical_diff(function_tmp1, 3.0)"
   ]
  },
  {
   "cell_type": "code",
   "execution_count": 156,
   "metadata": {
    "ExecuteTime": {
     "end_time": "2024-07-05T06:07:37.007835Z",
     "start_time": "2024-07-05T06:07:37.006140Z"
    }
   },
   "outputs": [
    {
     "data": {
      "text/plain": [
       "7.999999999999119"
      ]
     },
     "execution_count": 156,
     "metadata": {},
     "output_type": "execute_result"
    }
   ],
   "source": [
    "def function_tmp2(x1):\n",
    "    return 3.0 ** 2.0 + x1*x1\n",
    "\n",
    "numerical_diff(function_tmp2, 4.0)"
   ]
  },
  {
   "cell_type": "code",
   "execution_count": 157,
   "metadata": {
    "ExecuteTime": {
     "end_time": "2024-07-05T06:07:37.009872Z",
     "start_time": "2024-07-05T06:07:37.008236Z"
    }
   },
   "outputs": [],
   "source": [
    "def numerical_gradient(f, x):\n",
    "    h = 1e-4 # 0.0001\n",
    "    grad = np.zeros_like(x) # x와 형상이 같은 배열을 생성\n",
    "\n",
    "    for idx in range(x.size):\n",
    "        tmp_val = x[idx]\n",
    "\n",
    "        #f(x+h) 계산\n",
    "        x[idx] = tmp_val + h\n",
    "        fxh1 = f(x)\n",
    "\n",
    "        #f(x-h) 계산\n",
    "        x[idx] =tmp_val - h\n",
    "        fxh2 = f(x)\n",
    "\n",
    "        grad[idx] = (fxh1 - fxh2) / (2*h)\n",
    "        x[idx] = tmp_val # 값 복원\n",
    "\n",
    "    return grad\n",
    "        "
   ]
  },
  {
   "cell_type": "code",
   "execution_count": 158,
   "metadata": {
    "ExecuteTime": {
     "end_time": "2024-07-05T06:07:37.012078Z",
     "start_time": "2024-07-05T06:07:37.010306Z"
    }
   },
   "outputs": [
    {
     "name": "stdout",
     "output_type": "stream",
     "text": [
      "[6. 8.]\n",
      "[0. 4.]\n",
      "[6. 0.]\n"
     ]
    }
   ],
   "source": [
    "print(numerical_gradient(function_2, np.array([3.0, 4.0])))\n",
    "print(numerical_gradient(function_2, np.array([0.0, 2.0])))\n",
    "print(numerical_gradient(function_2, np.array([3.0, 0.0])))\n"
   ]
  },
  {
   "cell_type": "code",
   "execution_count": 159,
   "metadata": {
    "ExecuteTime": {
     "end_time": "2024-07-05T06:07:37.014052Z",
     "start_time": "2024-07-05T06:07:37.012494Z"
    }
   },
   "outputs": [],
   "source": [
    "# 경사법(경사 하강법: 최소를 찾아가는 과정, 경사 상승법: 최대를 찾아가는 법 => 이 둘의 차이 사실 없다. 사실상 서로 부호만 반전 시켜주면 본질은 같음. )\n",
    "# f: 최적화 대상 함수, init_x = 초기값, lr: learning rate, 학습률, step_num: 경사법에 따른 반복 횟수\n",
    "def gradient_descent(f, init_x, lr = 0.01, step_num = 100):\n",
    "    x = init_x\n",
    "    for i in range(step_num):\n",
    "        grad = numerical_gradient(f, x)\n",
    "        x -= lr * grad\n",
    "    \n",
    "    return x"
   ]
  },
  {
   "cell_type": "code",
   "execution_count": 160,
   "metadata": {
    "ExecuteTime": {
     "end_time": "2024-07-05T06:07:37.016795Z",
     "start_time": "2024-07-05T06:07:37.014437Z"
    }
   },
   "outputs": [
    {
     "data": {
      "text/plain": [
       "array([-6.11110793e-10,  8.14814391e-10])"
      ]
     },
     "execution_count": 160,
     "metadata": {},
     "output_type": "execute_result"
    }
   ],
   "source": [
    "# 위에서 구현한 경사법은 극소를 구할 수도 최소를 구할 수도 있음.\n",
    "\n",
    "def function_2(x):\n",
    "    return x[0] ** 2 + x[1] ** 2\n",
    "\n",
    "init_x = np.array([-3.0, 4.0])\n",
    "gradient_descent(function_2, init_x = init_x, lr = 0.1, step_num =100)\n",
    "\n",
    "# 해당 코드 실행결과: 거의 0에 가까운 결과 -> 실제로 최소값이 (0,0)이기에 최소임을 볼 수 있다."
   ]
  },
  {
   "cell_type": "code",
   "execution_count": 161,
   "metadata": {
    "ExecuteTime": {
     "end_time": "2024-07-05T06:07:37.019008Z",
     "start_time": "2024-07-05T06:07:37.017264Z"
    }
   },
   "outputs": [],
   "source": [
    "# 3자에서 소프트맥스함수 가져옴 -> 출력층이 아닌 층에서의 활성화 함수 -> 분류에서 사용\n",
    "def softmax(a):\n",
    "    c = np.max(a)\n",
    "\n",
    "    exp_a = np.exp(a-c)\n",
    "    sum_exp_a = np.sum(exp_a)\n",
    "\n",
    "    y = exp_a / sum_exp_a\n",
    "\n",
    "    return y"
   ]
  },
  {
   "cell_type": "code",
   "execution_count": 162,
   "metadata": {
    "ExecuteTime": {
     "end_time": "2024-07-05T06:07:37.021995Z",
     "start_time": "2024-07-05T06:07:37.019514Z"
    }
   },
   "outputs": [],
   "source": [
    "# 앞서 구현한 numerical_gradient은 다차원 배열 처리가 불가능 -> 저자 깃허브에서 가중치 매개변수 W가 다차원 배열이여도 처리가 가능하도록 구현한 코드 가져옴\n",
    "def _numerical_gradient_1d(f, x):\n",
    "    h = 1e-4 # 0.0001\n",
    "    grad = np.zeros_like(x)\n",
    "    \n",
    "    for idx in range(x.size):\n",
    "        tmp_val = x[idx]\n",
    "        x[idx] = float(tmp_val) + h\n",
    "        fxh1 = f(x) # f(x+h)\n",
    "        \n",
    "        x[idx] = tmp_val - h \n",
    "        fxh2 = f(x) # f(x-h)\n",
    "        grad[idx] = (fxh1 - fxh2) / (2*h)\n",
    "        \n",
    "        x[idx] = tmp_val # 값 복원\n",
    "        \n",
    "    return grad\n",
    "\n",
    "\n",
    "def numerical_gradient_2d(f, X):\n",
    "    if X.ndim == 1:\n",
    "        return _numerical_gradient_1d(f, X)\n",
    "    else:\n",
    "        grad = np.zeros_like(X)\n",
    "        \n",
    "        for idx, x in enumerate(X):\n",
    "            grad[idx] = _numerical_gradient_1d(f, x)\n",
    "        \n",
    "        return grad\n",
    "\n",
    "\n",
    "def numerical_gradient(f, x):\n",
    "    h = 1e-4 # 0.0001\n",
    "    grad = np.zeros_like(x)\n",
    "    \n",
    "    it = np.nditer(x, flags=['multi_index'], op_flags=['readwrite'])\n",
    "    while not it.finished:\n",
    "        idx = it.multi_index\n",
    "        tmp_val = x[idx]\n",
    "        x[idx] = float(tmp_val) + h\n",
    "        fxh1 = f(x) # f(x+h)\n",
    "        \n",
    "        x[idx] = tmp_val - h \n",
    "        fxh2 = f(x) # f(x-h)\n",
    "        grad[idx] = (fxh1 - fxh2) / (2*h)\n",
    "        \n",
    "        x[idx] = tmp_val # 값 복원\n",
    "        it.iternext()   \n",
    "        \n",
    "    return grad"
   ]
  },
  {
   "cell_type": "code",
   "execution_count": 163,
   "metadata": {
    "ExecuteTime": {
     "end_time": "2024-07-05T06:07:37.024615Z",
     "start_time": "2024-07-05T06:07:37.022447Z"
    }
   },
   "outputs": [
    {
     "name": "stdout",
     "output_type": "stream",
     "text": [
      "[[ 1.38077965 -0.2970333  -1.60835351]\n",
      " [-1.69311197 -0.2114989   0.02279291]]\n"
     ]
    }
   ],
   "source": [
    "import sys, os\n",
    "sys.path.append(os.pardir)\n",
    "import numpy as np\n",
    "\n",
    "\n",
    "class simpleNet:\n",
    "    def __init__(self):\n",
    "        self.W = np.random.randn(2,3)\n",
    "    \n",
    "    def predict(self, x):\n",
    "        return np.dot(x, self.W)\n",
    "    \n",
    "    def loss(self, x, t):\n",
    "        z = self.predict(x)\n",
    "        y = softmax(z)\n",
    "        loss = cross_entropy_error(y, t)\n",
    "\n",
    "        return loss\n",
    "    \n",
    "net = simpleNet()\n",
    "print(net.W)"
   ]
  },
  {
   "cell_type": "code",
   "execution_count": 164,
   "metadata": {
    "ExecuteTime": {
     "end_time": "2024-07-05T06:07:37.027009Z",
     "start_time": "2024-07-05T06:07:37.024992Z"
    }
   },
   "outputs": [
    {
     "name": "stdout",
     "output_type": "stream",
     "text": [
      "[-0.69533298 -0.36856899 -0.94449848]\n",
      "1\n"
     ]
    },
    {
     "data": {
      "text/plain": [
       "3.1305711373329643"
      ]
     },
     "execution_count": 164,
     "metadata": {},
     "output_type": "execute_result"
    }
   ],
   "source": [
    "x = np.array([0.6, 0.9])\n",
    "p  = net.predict(x)\n",
    "\n",
    "print(p)\n",
    "print(np.argmax(p))\n",
    "\n",
    "t = np.array([1,0,0])\n",
    "net.loss(x,t)"
   ]
  },
  {
   "cell_type": "code",
   "execution_count": 165,
   "metadata": {},
   "outputs": [
    {
     "name": "stdout",
     "output_type": "stream",
     "text": [
      "Initial weights: \n",
      " [[-0.24983619  0.83486737  1.96830284]\n",
      " [-0.62580685  1.54716915  0.02716166]]\n",
      "Prediction: [-0.71312788  1.89337266  1.2054272 ]\n",
      "Predicted class: 1\n",
      "Loss: 0.45514374269474855\n"
     ]
    }
   ],
   "source": [
    "import numpy as np\n",
    "\n",
    "def softmax(x):\n",
    "    c = np.max(x)\n",
    "    exp_x = np.exp(x - c)\n",
    "    sum_exp_x = np.sum(exp_x)\n",
    "    y = exp_x / sum_exp_x\n",
    "    return y\n",
    "\n",
    "def cross_entropy_error(y, t):\n",
    "    if y.ndim == 1:\n",
    "        y = y.reshape(1, y.size)\n",
    "        t = t.reshape(1, t.size)\n",
    "    \n",
    "    if t.size == y.size:\n",
    "        t = t.argmax(axis=1)\n",
    "\n",
    "    batch_size = y.shape[0]\n",
    "    return -np.sum(np.log(y[np.arange(batch_size), t])) / batch_size\n",
    "\n",
    "class simpleNet:\n",
    "    def __init__(self):\n",
    "        self.W = np.random.randn(2, 3)\n",
    "    \n",
    "    def predict(self, x):\n",
    "        return np.dot(x, self.W)\n",
    "    \n",
    "    def loss(self, x, t):\n",
    "        z = self.predict(x)\n",
    "        y = softmax(z)\n",
    "        loss = cross_entropy_error(y, t)\n",
    "        return loss\n",
    "    \n",
    "net = simpleNet()\n",
    "print(\"Initial weights: \\n\", net.W)\n",
    "\n",
    "x = np.array([0.6, 0.9])\n",
    "p = net.predict(x)\n",
    "\n",
    "print(\"Prediction:\", p)\n",
    "print(\"Predicted class:\", np.argmax(p))\n",
    "\n",
    "t = np.array([0, 1, 0])\n",
    "loss = net.loss(x, t)\n",
    "print(\"Loss:\", loss)\n"
   ]
  },
  {
   "cell_type": "code",
   "execution_count": 166,
   "metadata": {
    "ExecuteTime": {
     "end_time": "2024-07-05T06:07:37.029188Z",
     "start_time": "2024-07-05T06:07:37.027475Z"
    }
   },
   "outputs": [
    {
     "name": "stdout",
     "output_type": "stream",
     "text": [
      "[[ 0.0280864  -0.21938593  0.19129954]\n",
      " [ 0.0421296  -0.3290789   0.2869493 ]]\n"
     ]
    }
   ],
   "source": [
    "def f(W):\n",
    "    return net.loss(x, t)\n",
    "# f = lambda w: net.loss(x, t) 람다식 활용해서 간결하게 바꿈\n",
    "dW = numerical_gradient(f, net.W) \n",
    "print(dW)"
   ]
  },
  {
   "cell_type": "code",
   "execution_count": 167,
   "metadata": {
    "ExecuteTime": {
     "end_time": "2024-07-05T06:07:37.032905Z",
     "start_time": "2024-07-05T06:07:37.031424Z"
    }
   },
   "outputs": [
    {
     "name": "stdout",
     "output_type": "stream",
     "text": [
      "[[ 0.0280864  -0.21938593  0.19129954]\n",
      " [ 0.0421296  -0.3290789   0.2869493 ]]\n"
     ]
    }
   ],
   "source": [
    "f = lambda w: net.loss(x, t)\n",
    "dW = numerical_gradient(f, net.W)\n",
    "print(dW)"
   ]
  },
  {
   "cell_type": "code",
   "execution_count": 168,
   "metadata": {
    "ExecuteTime": {
     "end_time": "2024-07-05T06:07:37.403695Z",
     "start_time": "2024-07-05T06:07:37.402170Z"
    }
   },
   "outputs": [],
   "source": [
    "def sigmoid(x):\n",
    "    return 1 / (1 + np.exp(-x))"
   ]
  },
  {
   "cell_type": "code",
   "execution_count": 169,
   "metadata": {
    "ExecuteTime": {
     "end_time": "2024-07-05T06:09:05.901836Z",
     "start_time": "2024-07-05T06:07:37.864045Z"
    }
   },
   "outputs": [
    {
     "name": "stdout",
     "output_type": "stream",
     "text": [
      "(784, 50)\n",
      "(50,)\n",
      "(50, 10)\n",
      "(10,)\n"
     ]
    }
   ],
   "source": [
    "import numpy as np\n",
    "\n",
    "# sigmoid 함수 정의\n",
    "def sigmoid(x):\n",
    "    return 1 / (1 + np.exp(-x))\n",
    "\n",
    "# softmax 함수 정의\n",
    "def softmax(x):\n",
    "    if x.ndim == 2:\n",
    "        x = x - x.max(axis=1, keepdims=True)\n",
    "        x = np.exp(x)\n",
    "        x /= x.sum(axis=1, keepdims=True)\n",
    "    else:\n",
    "        x = x - np.max(x)\n",
    "        x = np.exp(x) / np.sum(np.exp(x))\n",
    "    return x\n",
    "\n",
    "# 교차 엔트로피 오차 함수 정의\n",
    "def cross_entropy_error(y, t):\n",
    "    if y.ndim == 1:  # 데이터가 1차원일 경우\n",
    "        t = t.reshape(1, t.size)\n",
    "        y = y.reshape(1, y.size)\n",
    "    \n",
    "    if t.size == y.size:  # 레이블이 원-핫 인코딩일 경우\n",
    "        t = t.argmax(axis=1)\n",
    "    \n",
    "    batch_size = y.shape[0]\n",
    "    # 여기에서 t.astype(int)를 추가하여 t를 정수형으로 변환합니다.\n",
    "    return -np.sum(np.log(y[np.arange(batch_size), t.astype(int)] + 1e-7)) / batch_size\n",
    "\n",
    "# 수치적 기울기 계산 함수 정의\n",
    "def numerical_gradient(f, x):\n",
    "    h = 1e-4  # 0.0001\n",
    "    grad = np.zeros_like(x)  # x와 형상이 같은 배열을 생성\n",
    "\n",
    "    # np.ndindex(x.shape)을 사용하여 모든 인덱스를 반복합니다.\n",
    "    for idx in np.ndindex(x.shape):\n",
    "        tmp_val = x[idx]\n",
    "        x[idx] = tmp_val + h\n",
    "        fxh1 = f(x)\n",
    "        \n",
    "        x[idx] = tmp_val - h\n",
    "        fxh2 = f(x)\n",
    "        \n",
    "        grad[idx] = (fxh1 - fxh2) / (2 * h)\n",
    "        x[idx] = tmp_val  # 원래 값 복원\n",
    "\n",
    "    return grad\n",
    "\n",
    "# 2차 신경망 구현\n",
    "\n",
    "class TwoLayerNet:\n",
    "    def __init__ (self, input_size, hidden_size, output_size, weight_init_std = 0.01): # 초기화를 수행하는 함수, 매개변수 순서대로 입력층의 뉴런 수, 은닉층의 뉴런 수, 출력층의 뉴런 수\n",
    "        self.params = {} # 신경망의 매개변수를 보관하는 딕셔너리 변수\n",
    "        self.params['W1'] = weight_init_std * np.random.randn(input_size, hidden_size) # 1번째 층의 가중치\n",
    "        self.params['b1'] = np.zeros(hidden_size) # 1번째 층의 편향\n",
    "        self.params['W2'] = weight_init_std * np.random.randn(hidden_size, output_size) # 2번째 층의 가중치\n",
    "        self.params['b2'] = np.zeros(output_size) # 2번째 층의 가중치\n",
    "\n",
    "    def predict(self, x):# 예측(추론 진행)-> x는 이미지 데이터\n",
    "        W1, W2 = self.params['W1'], self.params['W2']\n",
    "        b1, b2 = self.params['b1'], self.params['b2']\n",
    "\n",
    "        a1 = np.dot(x, W1) + b1\n",
    "        z1 = sigmoid(a1)\n",
    "        a2 = np.dot(z1, W2) + b2\n",
    "        y = softmax(a2)\n",
    "\n",
    "        return y\n",
    "\n",
    "    def loss(self, x, t):   # 손실 함수의 값을 구함\n",
    "        y = self.predict(x) # x는 이미지 데이터\n",
    "\n",
    "        return cross_entropy_error(y, t) # t는 정답 레이블\n",
    "    \n",
    "    def accuracy(self, x, t): # 정확도 구하기\n",
    "        y = self.predict(x)\n",
    "        y = np.argmax(y, axis = 1)\n",
    "        t = np.argmax(t, axis = 1)\n",
    "\n",
    "        accuracy = np.sum(y == t) / float(x.shape[0])\n",
    "        return accuracy\n",
    "    \n",
    "    def numerical_gradient(self, x, t): # 가중치 매개변수의 기울기를 구함 ->  가중치 매개변수의 손실함수에 대한 기울기를 구하는 것임\n",
    "        loss_W = lambda W: self.loss(x, t)\n",
    "\n",
    "        grads = {} # 기울기 보관하는 딕셔너리 변수, numerical_gradient 반환값\n",
    "        # 외부의 numerical_gradient 함수를 사용하여 기울기를 계산합니다.\n",
    "        grads['W1'] = numerical_gradient(loss_W, self.params['W1']) # 1번째 층의 가중치의 기울기\n",
    "        grads['b1'] = numerical_gradient(loss_W, self.params['b1']) # 1번째 층의 편향의 기울기\n",
    "        grads['W2'] = numerical_gradient(loss_W, self.params['W2']) # 2번째 층의 가중치의 기울기\n",
    "        grads['b2'] = numerical_gradient(loss_W, self.params['b2']) # 2번째 층의 편향의 기울기\n",
    "\n",
    "        return grads\n",
    "\n",
    "# 네트워크 초기화\n",
    "net = TwoLayerNet(input_size=784, hidden_size=50, output_size=10)\n",
    "\n",
    "# 입력 데이터와 타겟 데이터\n",
    "x = np.random.rand(100, 784)\n",
    "t = np.random.rand(100, 10)\n",
    "\n",
    "# 기울기 계산\n",
    "grads = net.numerical_gradient(x, t)\n",
    "\n",
    "print(grads['W1'].shape)\n",
    "print(grads['b1'].shape)\n",
    "print(grads['W2'].shape)\n",
    "print(grads['b2'].shape)\n"
   ]
  },
  {
   "cell_type": "code",
   "execution_count": 170,
   "metadata": {
    "ExecuteTime": {
     "end_time": "2024-07-05T06:12:18.968259Z",
     "start_time": "2024-07-05T06:12:18.965399Z"
    }
   },
   "outputs": [
    {
     "name": "stdout",
     "output_type": "stream",
     "text": [
      "(784, 100)\n",
      "(100,)\n",
      "(100, 10)\n",
      "(10,)\n"
     ]
    }
   ],
   "source": [
    "net = TwoLayerNet(input_size = 784, hidden_size = 100, output_size=10)# 입력층 뉴런 수: 784개, 은닉층 뉴런 수: 100개, 출력층 뉴런 수: 10개\n",
    "print(net.params['W1'].shape)\n",
    "print(net.params['b1'].shape)\n",
    "print(net.params['W2'].shape)\n",
    "print(net.params['b2'].shape)"
   ]
  },
  {
   "cell_type": "code",
   "execution_count": 171,
   "metadata": {
    "ExecuteTime": {
     "end_time": "2024-07-05T06:12:19.961406Z",
     "start_time": "2024-07-05T06:12:19.936867Z"
    }
   },
   "outputs": [],
   "source": [
    "x = np.random.randn(100, 784)\n",
    "y = net.predict(x)"
   ]
  },
  {
   "cell_type": "code",
   "execution_count": 172,
   "metadata": {
    "ExecuteTime": {
     "end_time": "2024-07-05T06:12:24.866524Z",
     "start_time": "2024-07-05T06:12:20.828999Z"
    }
   },
   "outputs": [
    {
     "name": "stdout",
     "output_type": "stream",
     "text": [
      "(784, 100)\n",
      "(100,)\n",
      "(100, 10)\n",
      "(10,)\n"
     ]
    }
   ],
   "source": [
    "x  =np.random.rand(100, 784)\n",
    "t = np.random.rand(100, 10)\n",
    "\n",
    "grads = net.numerical_gradient(x, t)\n",
    "\n",
    "print(grads['W1'].shape)\n",
    "print(grads['b1'].shape)\n",
    "print(grads['W2'].shape)\n",
    "print(grads['b2'].shape)"
   ]
  },
  {
   "cell_type": "code",
   "execution_count": 173,
   "metadata": {
    "ExecuteTime": {
     "end_time": "2024-07-05T06:09:07.564042Z",
     "start_time": "2024-07-05T06:09:07.563990Z"
    }
   },
   "outputs": [
    {
     "name": "stdout",
     "output_type": "stream",
     "text": [
      "(60000, 784)\n",
      "(60000, 10)\n"
     ]
    }
   ],
   "source": [
    "import tensorflow as tf\n",
    "from tensorflow.keras.datasets import mnist\n",
    "\n",
    "# MNIST 데이터셋 불러오기\n",
    "(x_train, t_train), (x_test, t_test) = mnist.load_data()\n",
    "\n",
    "# 데이터 정규화\n",
    "x_train = x_train.astype('float32') / 255.0\n",
    "x_test = x_test.astype('float32') / 255.0\n",
    "\n",
    "# 1차원 배열로 변환 (28x28 -> 784)\n",
    "x_train = x_train.reshape((x_train.shape[0], 784))\n",
    "x_test = x_test.reshape((x_test.shape[0], 784))\n",
    "\n",
    "# 원-핫 인코딩\n",
    "t_train = tf.keras.utils.to_categorical(t_train, 10)\n",
    "t_test = tf.keras.utils.to_categorical(t_test, 10)\n",
    "\n",
    "print(x_train.shape)  # (60000, 784)\n",
    "print(t_train.shape)  # (60000, 10)\n"
   ]
  },
  {
   "cell_type": "code",
   "execution_count": 174,
   "metadata": {},
   "outputs": [],
   "source": [
    "# 미니배치를 통한 신경망 학습 구현하기\n",
    "# import numpy as np\n",
    "\n",
    "# import tensorflow as tf\n",
    "# from tensorflow.keras.datasets import mnist\n",
    "\n",
    "# # MNIST 데이터셋 불러오기\n",
    "# (x_train, t_train), (x_test, t_test) = mnist.load_data()\n",
    "\n",
    "# # 데이터 정규화\n",
    "# x_train = x_train.astype('float32') / 255.0\n",
    "# x_test = x_test.astype('float32') / 255.0\n",
    "\n",
    "# # 1차원 배열로 변환 (28x28 -> 784)\n",
    "# x_train = x_train.reshape((x_train.shape[0], 784))\n",
    "# x_test = x_test.reshape((x_test.shape[0], 784))\n",
    "\n",
    "# # 원-핫 인코딩\n",
    "# t_train = tf.keras.utils.to_categorical(t_train, 10)\n",
    "# t_test = tf.keras.utils.to_categorical(t_test, 10)\n",
    "\n",
    "train_loss_list = []\n",
    "\n",
    "#하이퍼파라미터 \n",
    "iters_num = 5 # 반복 횟수\n",
    "train_size = x_train.shape[0]\n",
    "batch_size = 10 # 미니배치 크기\n",
    "learning_rate = 0.1\n",
    "\n",
    "network = TwoLayerNet(input_size = 784, hidden_size = 50, output_size = 10)\n",
    "\n",
    "for i in range(iters_num):\n",
    "    # 미니배치 획득\n",
    "    batch_mask = np.random.choice(train_size, batch_size)\n",
    "    x_batch = x_train[batch_mask]\n",
    "    t_batch = t_train[batch_mask]\n",
    "\n",
    "    grad = network.numerical_gradient(x_batch, t_batch)\n",
    "\n",
    "    # 매개변수 갱신\n",
    "    for key in ('W1', 'b1', 'W2', 'b2'):\n",
    "        network.params[key] -= learning_rate * grad[key]\n",
    "\n",
    "    #학습 경과 기록\n",
    "    loss = network.loss(x_batch, t_batch)\n",
    "    train_loss_list.append(loss)"
   ]
  },
  {
   "cell_type": "code",
   "execution_count": 175,
   "metadata": {},
   "outputs": [
    {
     "name": "stdout",
     "output_type": "stream",
     "text": [
      "train acc, test acc | 0.10218333333333333,0.101\n"
     ]
    }
   ],
   "source": [
    "\n",
    "# 미니배치를 통한 신경망 학습 구현하기\n",
    "# import numpy as np\n",
    "\n",
    "# import tensorflow as tf\n",
    "# from tensorflow.keras.datasets import mnist\n",
    "\n",
    "# # MNIST 데이터셋 불러오기\n",
    "# (x_train, t_train), (x_test, t_test) = mnist.load_data()\n",
    "\n",
    "# # 데이터 정규화\n",
    "# x_train = x_train.astype('float32') / 255.0\n",
    "# x_test = x_test.astype('float32') / 255.0\n",
    "\n",
    "# # 1차원 배열로 변환 (28x28 -> 784)\n",
    "# x_train = x_train.reshape((x_train.shape[0], 784))\n",
    "# x_test = x_test.reshape((x_test.shape[0], 784))\n",
    "\n",
    "# # 원-핫 인코딩\n",
    "# t_train = tf.keras.utils.to_categorical(t_train, 10)\n",
    "# t_test = tf.keras.utils.to_categorical(t_test, 10)\n",
    "\n",
    "train_loss_list = []\n",
    "train_acc_list = []\n",
    "test_acc_list = []\n",
    "\n",
    "#하이퍼파라미터 \n",
    "iters_num = 5 # 반복 횟수\n",
    "train_size = x_train.shape[0]\n",
    "batch_size = 10 # 미니배치 크기\n",
    "learning_rate = 0.1\n",
    "\n",
    "# 1epoch당 반복 수\n",
    "iter_per_epoch = max(train_size/ batch_size, 1)\n",
    "\n",
    "network = TwoLayerNet(input_size = 784, hidden_size = 50, output_size = 10)\n",
    "\n",
    "for i in range(iters_num):\n",
    "    # 미니배치 획득\n",
    "    batch_mask = np.random.choice(train_size, batch_size)\n",
    "    x_batch = x_train[batch_mask]\n",
    "    t_batch = t_train[batch_mask]\n",
    "\n",
    "    grad = network.numerical_gradient(x_batch, t_batch)\n",
    "\n",
    "    # 매개변수 갱신\n",
    "    for key in ('W1', 'b1', 'W2', 'b2'):\n",
    "        network.params[key] -= learning_rate * grad[key]\n",
    "\n",
    "    #학습 경과 기록\n",
    "    loss = network.loss(x_batch, t_batch)\n",
    "    train_loss_list.append(loss)\n",
    "    # 1 epoch당 정확도 계산\n",
    "    if i % iter_per_epoch == 0:\n",
    "        train_acc = network.accuracy(x_train, t_train)\n",
    "        test_acc = network.accuracy(x_test, t_test)\n",
    "        train_acc_list.append(train_acc)\n",
    "        test_acc_list.append(test_acc)\n",
    "        print(\"train acc, test acc | \" + str(train_acc) + ',' + str(test_acc))"
   ]
  },
  {
   "cell_type": "code",
   "execution_count": null,
   "metadata": {},
   "outputs": [],
   "source": []
  }
 ],
 "metadata": {
  "kernelspec": {
   "display_name": "Python 3",
   "language": "python",
   "name": "python3"
  },
  "language_info": {
   "codemirror_mode": {
    "name": "ipython",
    "version": 3
   },
   "file_extension": ".py",
   "mimetype": "text/x-python",
   "name": "python",
   "nbconvert_exporter": "python",
   "pygments_lexer": "ipython3",
   "version": "3.12.3"
  }
 },
 "nbformat": 4,
 "nbformat_minor": 2
}
